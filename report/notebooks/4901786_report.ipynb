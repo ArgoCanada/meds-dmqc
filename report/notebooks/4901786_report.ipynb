{
 "cells": [
  {
   "cell_type": "markdown",
   "metadata": {},
   "source": [
    "# DMQC Report: WMO 4901784\n",
    "\n",
    "## Current status and metadata: \n",
    "\n",
    "- DOVA float, inactive as of November 2018\n",
    "- Completed 100 cycles in mid-North Pacific\n",
    "- Calculated mean gain of xxx"
   ]
  }
 ],
 "metadata": {
  "language_info": {
   "name": "python"
  },
  "orig_nbformat": 4
 },
 "nbformat": 4,
 "nbformat_minor": 2
}
