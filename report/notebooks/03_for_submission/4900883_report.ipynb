{
 "cells": [
  {
   "cell_type": "markdown",
   "metadata": {},
   "source": [
    "# DMQC Report: WMO 4900883\n",
    "\n",
    "## Current status and metadata: \n",
    "\n",
    "- APEX float inactive as of September 2011\n",
    "- Deployed November 2006\n",
    "- Completed 174 cycles in North Atlantic, appears to have been deployed off Southeast Grand Bank on NL AZMP\n",
    "- In 'A' mode, gain of 0.9917 applied\n",
    "- Calculated mean gain of 1.011"
   ]
  },
  {
   "cell_type": "code",
   "execution_count": null,
   "metadata": {},
   "outputs": [],
   "source": [
    "import warnings\n",
    "warnings.filterwarnings('ignore')\n",
    "\n",
    "from matplotlib.dates import datestr2num\n",
    "import matplotlib.pyplot as plt\n",
    "\n",
    "from netCDF4 import Dataset\n",
    "\n",
    "from pathlib import Path\n",
    "import numpy as np\n",
    "import pandas as pd\n",
    "import bgcArgoDMQC as bgc\n",
    "\n",
    "wmo = 4900883 # insert WMO number here\n",
    "fig_path = Path('../../../figures/') / f'{wmo}' # where to save figures\n",
    "fig_path.mkdir(exist_ok=True)\n",
    "bgc.io.get_argo(wmo, local_path=bgc.io.Path.ARGO_PATH, overwrite=False) # download the data to ensure you have up to date files\n",
    "flt = bgc.sprof(wmo)\n",
    "flt.clean()\n",
    "gains = flt.calc_gains(ref='WOA') # calculate gain, can change to ref='NCEP' if in-air data is available\n",
    "print(np.nanmean(gains))"
   ]
  },
  {
   "cell_type": "markdown",
   "metadata": {},
   "source": [
    "## DOXY Audit Status\n",
    "\n",
    "- Few points in the middle of the mission where there is some \"spikiness\" in the float surface saturation\n",
    "- Cycles between 91-102 are flagged, but not all"
   ]
  },
  {
   "cell_type": "code",
   "execution_count": null,
   "metadata": {},
   "outputs": [],
   "source": [
    "audit_file = list(Path('../../../audit/').glob('DOXY_WOA*'))[-1]\n",
    "df = pd.read_csv(audit_file, sep='\\t', header=25)\n",
    "df = df.loc[df.WMO == wmo]\n",
    "df['date'] = [datestr2num(t) for t in df['profile date']]\n",
    "print(df[['cycle', 'profile date', 'WOA G_raw']])"
   ]
  },
  {
   "cell_type": "markdown",
   "metadata": {},
   "source": [
    "## Visual QC\n",
    "\n",
    "Check the profiles and any anomolous looking saturation values."
   ]
  },
  {
   "cell_type": "code",
   "execution_count": null,
   "metadata": {},
   "outputs": [],
   "source": [
    "g = flt.plot('gain', ref='WOA')\n",
    "g.axes[0].set_title(f'WMO: {wmo}', loc='left', fontweight='bold')\n",
    "g.axes[0].plot(df['date'], df['flt O2 %sat'], '*')\n",
    "g.axes[1].plot(df['date'], df['WOA G_raw'], '*', zorder=3)\n",
    "g.axes[0].plot(flt.df.SDN.loc[flt.df.PRES < 50], flt.df.O2Sat.loc[flt.df.PRES < 50], 'o', zorder=0, alpha=0.1)\n",
    "fig_path.mkdir(exist_ok=True)\n",
    "g.fig.savefig(fig_path / 'gain_initial.png', bbox_inches='tight', dpi=250)"
   ]
  },
  {
   "cell_type": "markdown",
   "metadata": {},
   "source": [
    "Figure 1: Top panel: Float oxygen percent saturation (blue line) compared to WOA percent saturation (orange line), with DOXY audit flagged cycle percent saturation (green stars) and raw float percent saturation (orange circles). Bottom panel: calculated gains (blue dots) and flagged gains from DOXY audit (orange stars).\n",
    "\n",
    "Notes: Lots of spiking in the profiles flagged by the audit, though not all of those profiles are flagged and some look reasonable. Outside of that mostly looks good. "
   ]
  },
  {
   "cell_type": "code",
   "execution_count": null,
   "metadata": {},
   "outputs": [],
   "source": [
    "flt.reset()\n",
    "g = flt.plot('qcprofiles', varlist=['DOXY', 'DOXY_ADJUSTED', 'O2Sat', 'TEMP', 'PSAL'])\n",
    "g.fig.savefig(fig_path / 'qcprofiles.png', bbox_inches='tight', dpi=250)\n",
    "g = flt.plot('qcprofiles', varlist=['DOXY', 'DOXY_ADJUSTED', 'O2Sat', 'TEMP', 'PSAL'])\n",
    "g.axes[0].set_ylim((200,0))\n",
    "g.fig.savefig(fig_path / 'qcprofiles_shallow.png', bbox_inches='tight', dpi=250)"
   ]
  },
  {
   "cell_type": "markdown",
   "metadata": {},
   "source": [
    "Figures 2,3: Profiles coloured by QC flag (1-2, green, 3, yellow, 4, red) on difference depth scales.\n",
    "\n",
    "Notes: Can't really see the potentially problematic profiles based on the gain plot, though maybe a couple high points in the very surface. The points flagged as 3 shallower than 250 should probably be downgraded to 4. "
   ]
  },
  {
   "cell_type": "code",
   "execution_count": null,
   "metadata": {},
   "outputs": [],
   "source": [
    "bad_profiles = flt.df.loc[flt.df.CYCLE.isin(df['cycle'])]\n",
    "bad_profiles"
   ]
  },
  {
   "cell_type": "code",
   "execution_count": null,
   "metadata": {},
   "outputs": [],
   "source": [
    "fig, axes = plt.subplots(1, 4, sharey=True)\n",
    "ax = axes[0]\n",
    "flt.rm_fillvalue()\n",
    "ax.plot(flt.df.O2Sat, flt.df.PRES, '.')\n",
    "ax.plot(bad_profiles.O2Sat, bad_profiles.PRES, '.')\n",
    "ax.set_ylabel('Pressure (dbar)')\n",
    "ax.set_xlabel('Saturation %')\n",
    "\n",
    "# ax.axvline(123.5)\n",
    "# ax.axvline(118)\n",
    "# ax.axvline(75)\n",
    "# ax.axvline(80)\n",
    "# ax.axvline(90)\n",
    "# ax.axvline(45)\n",
    "# ax.axvline(110)\n",
    "\n",
    "# ax.axhline(12)\n",
    "# ax.axhline(27)\n",
    "# ax.axhline(42)\n",
    "\n",
    "bad = (flt.O2Sat > 123.5)\n",
    "bad = bad | ((flt.O2Sat < 80) & (flt.PRES < 40))\n",
    "bad = bad | ((flt.O2Sat < 90) & (flt.PRES < 27))\n",
    "bad = bad | ((flt.O2Sat < 42) & (flt.PRES > 200) & (flt.PRES < 300))\n",
    "bad = bad | ((flt.O2Sat > 110) & (flt.PRES > 150) & (flt.PRES < 500))\n",
    "bad = bad | ((flt.O2Sat < 65) & (flt.PRES > 1300))\n",
    "bad = bad | ((flt.O2Sat > 95) & (flt.PRES > 1300))\n",
    "print(sum(bad))\n",
    "ax.plot(flt.df.O2Sat.loc[bad], flt.df.PRES.loc[bad], '^', color='red')\n",
    "\n",
    "ax = axes[1]\n",
    "flt.rm_fillvalue()\n",
    "ax.plot(flt.df.DOXY, flt.df.PRES, '.')\n",
    "ax.plot(bad_profiles.DOXY, bad_profiles.PRES, '.')\n",
    "ax.set_ylim((250,0))\n",
    "ax.set_xlabel('Diss. Oxygen ($\\mathregular{\\mu}$mol kg$^{-1}$)')\n",
    "\n",
    "ax.plot(flt.df.DOXY.loc[bad], flt.df.PRES.loc[bad], '^', color='red')\n",
    "\n",
    "ax = axes[2]\n",
    "flt.rm_fillvalue()\n",
    "ax.plot(flt.df.TEMP, flt.df.PRES, '.')\n",
    "ax.plot(bad_profiles.TEMP, bad_profiles.PRES, '.')\n",
    "ax.set_ylim((250,0))\n",
    "ax.set_xlabel(f'Temperature ({chr(176)}C)')\n",
    "\n",
    "ax.plot(flt.df.TEMP.loc[bad], flt.df.PRES.loc[bad], '^', color='red')\n",
    "\n",
    "ax = axes[3]\n",
    "flt.rm_fillvalue()\n",
    "ax.plot(flt.df.PSAL, flt.df.PRES, '.')\n",
    "ax.plot(bad_profiles.PSAL, bad_profiles.PRES, '.')\n",
    "ax.set_ylim((250,0))\n",
    "ax.set_xlabel(f'Salinity')\n",
    "\n",
    "ax.plot(flt.df.PSAL.loc[bad], flt.df.PRES.loc[bad], '^', color='red')\n",
    "\n",
    "fig.set_size_inches(1.8*fig.get_figwidth(), fig.get_figheight())\n",
    "fig.savefig(fig_path / 'bad_pts_o2sat_doxy.png', bbox_inches='tight', dpi=250)\n",
    "\n"
   ]
  },
  {
   "cell_type": "markdown",
   "metadata": {},
   "source": [
    "Figure 4: highlight potentially bad profiles, use horizontal/vertical lines to define \"bad\" indices. "
   ]
  },
  {
   "cell_type": "code",
   "execution_count": null,
   "metadata": {},
   "outputs": [],
   "source": [
    "# get the mean gain\n",
    "flt.update_field('DOXY_QC', 3, where=flt.DOXY_QC == 1)\n",
    "flt.update_field('DOXY_QC', 3, where=flt.DOXY_QC == 0)\n",
    "flt.update_field('DOXY_ADJUSTED_QC', flt.DOXY_QC)\n",
    "flt.update_field('DOXY_QC', 4, where=bad)\n",
    "flt.update_field('DOXY_ADJUSTED_QC', 4, where=bad)\n",
    "# make sure DOXY_QC is 3 instead of 0,1,2\n",
    "flt.update_field('DOXY_QC', 3, where=flt.DOXY_QC.isin([0, 1, 2]))\n",
    "# fill in DOXY_ADJUSTED_QC appropriately\n",
    "flt.update_field('DOXY_ADJUSTED_QC', 4, where=flt.TEMP_ADJUSTED_QC == 4)\n",
    "flt.update_field('DOXY_ADJUSTED_QC', 3, where=flt.PSAL_ADJUSTED_QC == 4)\n",
    "\n",
    "flt.clean()\n",
    "new_gains = flt.calc_gains(ref='WOA')\n",
    "\n",
    "flt.update_field('DOXY_ADJUSTED', np.ma.masked_array(flt.gain*flt.DOXY, mask=flt.DOXY_ADJUSTED_QC.isin([4, 9])))\n",
    "flt.update_field('DOXY_ADJUSTED_ERROR', bgc.calc_fixed_doxy_adjusted_error(flt.PSAL, flt.TEMP, flt.PRES))\n",
    "\n",
    "# make sure the data is FillValues where adjusted values are still bad\n",
    "flt.update_field('DOXY_ADJUSTED_QC', 4, where=flt.DOXY_ADJUSTED.isna())\n",
    "flt.set_fillvalue('DOXY_ADJUSTED', where=flt.DOXY_ADJUSTED_QC.isin([4, 9]))\n",
    "flt.set_fillvalue('DOXY_ADJUSTED_ERROR', where=flt.DOXY_ADJUSTED_QC.isin([4, 9]))\n",
    "\n",
    "print(np.nanmean(new_gains))"
   ]
  },
  {
   "cell_type": "code",
   "execution_count": null,
   "metadata": {},
   "outputs": [],
   "source": [
    "g = flt.plot('gain', ref='WOA')\n",
    "g.axes[0].set_title(f'WMO: {wmo}', loc='left', fontweight='bold')\n",
    "g.axes[0].plot(flt.df.SDN.loc[flt.df.PRES < 50], flt.df.O2Sat.loc[flt.df.PRES < 50], 'o', zorder=0, alpha=0.1)\n",
    "# g.axes[0].plot(df['date'], df['flt O2 %sat'], '*')\n",
    "# g.axes[1].plot(df['date'], df['WOA G_raw'], '*', zorder=3)\n",
    "g.fig.savefig(fig_path / 'gain_final.png', bbox_inches='tight', dpi=250)"
   ]
  },
  {
   "cell_type": "markdown",
   "metadata": {},
   "source": [
    "There is still a bit of spikiness in that area but I am hesitant to remove it as it looks well grouped with the rest of the profiles."
   ]
  },
  {
   "cell_type": "code",
   "execution_count": null,
   "metadata": {},
   "outputs": [],
   "source": [
    "flt.export_files(data_mode='D')"
   ]
  },
  {
   "cell_type": "code",
   "execution_count": null,
   "metadata": {},
   "outputs": [],
   "source": [
    "from pathlib import Path\n",
    "import pandas as pd\n",
    "import numpy as np\n",
    "from netCDF4 import Dataset\n",
    "import copy\n",
    "\n",
    "def fill_nearest_neighbour(P, param):\n",
    "    out = copy.deepcopy(param)\n",
    "    ix = np.where(np.isnan(param[0,:]))\n",
    "    for i in ix[0]:\n",
    "        iy = np.where(P[0,:] - P[0,i] == np.nanmin(P[0,:] - P[0,i]))\n",
    "        out[0,i] = param[0,iy[0][0]]\n",
    "\n",
    "    return out\n",
    "\n",
    "wmo = 4900883\n",
    "loc = Path(f'/Users/GordonC/Documents/data/Argo/dac/meds/D/{wmo}/profiles/')\n",
    "files = pd.read_csv(Path(f'../../../checker/summary/{wmo}/files.txt'))\n",
    "varname = 'DOXY'\n",
    "for fn in files.files:\n",
    "    print(fn)\n",
    "    nc = Dataset((loc / fn).absolute(), 'r+')\n",
    "    pres = copy.deepcopy(nc['PRES'][:])\n",
    "    param = copy.deepcopy(nc['DOXY_ADJUSTED_ERROR'][:])\n",
    "    param = fill_nearest_neighbour(pres, param)\n",
    "    nc['DOXY_ADJUSTED_ERROR'][:] = param\n",
    "    nc.close()"
   ]
  },
  {
   "cell_type": "code",
   "execution_count": null,
   "metadata": {},
   "outputs": [],
   "source": [
    "files = pd.read_csv(Path(f'../../../checker/summary/{wmo}/files.txt'))\n",
    "varname = 'DOXY'\n",
    "for fn in files.files:\n",
    "    print(fn)\n",
    "    nc = Dataset((loc / fn).absolute(), 'r+')\n",
    "    error = copy.deepcopy(nc['DOXY_ADJUSTED_ERROR'][:])\n",
    "    error.mask[0,2] = False\n",
    "    print(error)\n",
    "    error.data[0,2] = error.data[0,3]\n",
    "    print(error)\n",
    "    nc['DOXY_ADJUSTED_ERROR'][:] = error\n",
    "    print(nc['DOXY_ADJUSTED_ERROR'][:] )\n",
    "    nc.close()\n"
   ]
  },
  {
   "cell_type": "code",
   "execution_count": null,
   "metadata": {},
   "outputs": [],
   "source": [
    "nc.close()"
   ]
  },
  {
   "cell_type": "code",
   "execution_count": null,
   "metadata": {},
   "outputs": [],
   "source": []
  }
 ],
 "metadata": {
  "interpreter": {
   "hash": "8571e7f3e92f6e490cddd84ef78d4e4e0b96a1f565959148b10a39523fba88f5"
  },
  "kernelspec": {
   "display_name": "Python 3.9.7 ('py39')",
   "language": "python",
   "name": "python3"
  },
  "language_info": {
   "codemirror_mode": {
    "name": "ipython",
    "version": 3
   },
   "file_extension": ".py",
   "mimetype": "text/x-python",
   "name": "python",
   "nbconvert_exporter": "python",
   "pygments_lexer": "ipython3",
   "version": "3.13.1"
  },
  "orig_nbformat": 4
 },
 "nbformat": 4,
 "nbformat_minor": 2
}
