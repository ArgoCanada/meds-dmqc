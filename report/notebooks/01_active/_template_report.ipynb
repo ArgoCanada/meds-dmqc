{
 "cells": [
  {
   "cell_type": "markdown",
   "metadata": {},
   "source": [
    "# DMQC Report: WMO [WMO Number]\n",
    "\n",
    "## Current status and metadata: \n",
    "\n",
    "- What kind of float?\n",
    "- Active/inactive? When?\n",
    "- Where is it?\n",
    "- How many cycles has it completed?\n",
    "- Is there in-air data?\n",
    "- What mode is the data in right now?\n",
    "- What is the gain with the data as is?"
   ]
  },
  {
   "cell_type": "code",
   "execution_count": null,
   "metadata": {},
   "outputs": [],
   "source": [
    "import warnings\n",
    "warnings.filterwarnings('ignore')\n",
    "\n",
    "from matplotlib.dates import datestr2num\n",
    "import matplotlib.pyplot as plt\n",
    "\n",
    "from netCDF4 import Dataset\n",
    "\n",
    "from pathlib import Path\n",
    "import numpy as np\n",
    "import pandas as pd\n",
    "import bgcArgoDMQC as bgc\n",
    "\n",
    "wmo = 0 # insert WMO number here\n",
    "fig_path = Path('../../../figures/') / f'{wmo}' # where to save figures\n",
    "fig_path.mkdir(exist_ok=True)\n",
    "bgc.io.get_argo(wmo, local_path=bgc.io.Path.ARGO_PATH) # download the data to ensure you have up to date files\n",
    "flt = bgc.sprof(wmo)\n",
    "flt.clean()\n",
    "gains = flt.calc_gains(ref='WOA') # calculate gain, can change to ref='NCEP' if in-air data is available\n",
    "print(np.nanmean(gains))\n",
    "\n",
    "# check what/if anything is done already\n",
    "nc = Dataset(flt.__Sprof__)\n",
    "print(bgc.io.read_ncstr(nc['SCIENTIFIC_CALIB_COMMENT'][:][50,-1,3,:]))\n",
    "print(nc['DOXY_ADJUSTED'][:][-1,:]/nc['DOXY'][:][-1,:])\n",
    "print(np.nanmean(nc['DOXY_ADJUSTED'][:]/nc['DOXY'][:]))\n",
    "nc.close()"
   ]
  },
  {
   "cell_type": "markdown",
   "metadata": {},
   "source": [
    "## DOXY Audit Status\n",
    "\n",
    "- If the float has any profiles present in the DOXY audit, which are they are why?\n",
    "- Likely will usually be left empty/deleted"
   ]
  },
  {
   "cell_type": "code",
   "execution_count": null,
   "metadata": {},
   "outputs": [],
   "source": [
    "audit_file = list(Path('../../audit/').glob('DOXY_WOA*'))[-1]\n",
    "df = pd.read_csv(audit_file, sep='\\t', header=25)\n",
    "df = df.loc[df.WMO == wmo]\n",
    "df['date'] = [datestr2num(t) for t in df['profile date']]\n",
    "print(df['WOA G_raw'].mean())"
   ]
  },
  {
   "cell_type": "markdown",
   "metadata": {},
   "source": [
    "## Visual QC\n",
    "\n",
    "- Visualize the float and reference surface saturations, as well as the profiles. \n",
    "- Observe if DOXY data is set to '3' as it should be or if it is '1' or '2'. \n",
    "- Try to note cycles or other identifying features of potentially problematic profiles."
   ]
  },
  {
   "cell_type": "code",
   "execution_count": null,
   "metadata": {},
   "outputs": [],
   "source": [
    "g = flt.plot('gain', ref='WOA')\n",
    "g.axes[0].set_title(f'WMO: {wmo}', loc='left', fontweight='bold')\n",
    "g.axes[0].plot(flt.df.SDN.loc[flt.df.PRES < 50], flt.df.O2Sat.loc[flt.df.PRES < 50], 'o', zorder=0, alpha=0.1)\n",
    "g.fig.savefig(fig_path / 'gain_initial.png', bbox_inches='tight', dpi=250)"
   ]
  },
  {
   "cell_type": "markdown",
   "metadata": {},
   "source": [
    "Figure 1: Top panel: Float oxygen percent saturation (blue line) compared to WOA percent saturation (orange line), with DOXY audit flagged cycle percent saturation (green stars, if applicable) and raw float percent saturation (orange circles). Bottom panel: calculated gains (blue dots) and flagged gains from DOXY audit (orange stars).\n",
    "\n",
    "Notes: [notes on what this figure tells you here] "
   ]
  },
  {
   "cell_type": "code",
   "execution_count": null,
   "metadata": {},
   "outputs": [],
   "source": [
    "flt.reset()\n",
    "g = flt.plot('qcprofiles', varlist=['DOXY', 'DOXY_ADJUSTED', 'O2Sat', 'TEMP', 'PSAL'])\n",
    "g.fig.savefig(fig_path / 'qcprofiles.png', bbox_inches='tight', dpi=250)\n",
    "g = flt.plot('qcprofiles', varlist=['DOXY', 'DOXY_ADJUSTED', 'O2Sat', 'TEMP', 'PSAL'])\n",
    "g.axes[0].set_ylim((200,0))\n",
    "g.fig.savefig(fig_path / 'qcprofiles_shallow.png', bbox_inches='tight', dpi=250)"
   ]
  },
  {
   "cell_type": "markdown",
   "metadata": {},
   "source": [
    "Figures 2,3: Profiles coloured by QC flag (1-2, green, 3, yellow, 4, red) on difference depth scales.\n",
    "\n",
    "Notes: [notes on what this figure tells you here] "
   ]
  },
  {
   "cell_type": "markdown",
   "metadata": {},
   "source": [
    "## Flag bad data, recalculate gain\n",
    "\n",
    "- Using the plots above (and likely some more specific plots, made on a case-by-case basis), flag bad DOXY data as 4. \n",
    "- After flagging bad data, re-clean the data and re-calculate the gains."
   ]
  },
  {
   "cell_type": "code",
   "execution_count": null,
   "metadata": {},
   "outputs": [],
   "source": [
    "bad_oxygen = [] # index defining where the oxygen should be flagged as bad\n",
    "flt.update_field('DOXY_QC', 4, where=bad_oxygen)\n",
    "flt.update_field('DOXY_ADJUSTED_QC', 4, where=bad_oxygen)\n",
    "flt.clean()\n",
    "new_gains = flt.calc_gains(ref='WOA')\n",
    "print(np.nanmean(new_gains))\n",
    "\n",
    "flt.reset()\n",
    "g = flt.plot('qcprofiles', varlist=['DOXY', 'DOXY_ADJUSTED', 'O2Sat', 'TEMP', 'PSAL'])\n",
    "g.fig.savefig(fig_path / 'qcprofiles_postqc.png', bbox_inches='tight', dpi=250)\n",
    "g = flt.plot('qcprofiles', varlist=['DOXY', 'DOXY_ADJUSTED', 'O2Sat', 'TEMP', 'PSAL'])\n",
    "g.axes[0].set_ylim((200,0))\n",
    "g.fig.savefig(fig_path / 'qcprofiles_shallow_postqc.png', bbox_inches='tight', dpi=250)\n",
    "\n",
    "flt.clean()\n",
    "g = flt.plot('gain', ref='WOA')\n",
    "g.axes[0].set_title(f'WMO: {wmo}', loc='left', fontweight='bold')\n",
    "g.axes[0].plot(flt.df.SDN.loc[flt.df.PRES < 50], flt.df.O2Sat.loc[flt.df.PRES < 50], 'o', zorder=0, alpha=0.1)\n",
    "g.fig.savefig(fig_path / 'gain_final.png', bbox_inches='tight', dpi=250)"
   ]
  },
  {
   "cell_type": "markdown",
   "metadata": {},
   "source": [
    "Figure x: Repeated gain plot with bad data removed.\n",
    "\n",
    "## Update Fields and Export\n",
    "\n",
    "- DOXY should be 3 by default, but many old floats have 1 or 0. Though it will be redundant in some cases, make sure DOXY_QC is not good.\n",
    "- Apply the gain to calculate DOXY_ADJUSTED. \n",
    "- Fill in DOXY_ADJUSTED_ERROR with an appropriate fixed value.\n",
    "- Fill in DOXY_ADJUSTED_QC. \n",
    "- Make sure DOXY_ADJUSTED and DOXY_ADJUSTED_ERROR are `FillValue` wherever DOXY_ADJUSTED_QC is bad.\n",
    "- Export the D-mode files. During export, HISTORY parameters will be filled as well as SCIENTIFIC_CALIB parameters using some default structures and user info set by calling `bgc.configure.configure()`."
   ]
  },
  {
   "cell_type": "code",
   "execution_count": null,
   "metadata": {},
   "outputs": [],
   "source": [
    "# make sure DOXY_QC is 3 instead of 0,1,2\n",
    "flt.update_field('DOXY_QC', 3, where=flt.DOXY_QC.isin([0, 1, 2]))\n",
    "# fill in DOXY_ADJUSTED_QC appropriately\n",
    "# flt.update_field('DOXY_ADJUSTED_QC', 4, where=flt.TEMP_ADJUSTED_QC == 4)\n",
    "# flt.update_field('DOXY_ADJUSTED_QC', 3, where=flt.PSAL_ADJUSTED_QC == 4)\n",
    "# make sure the data is FillValues where adjusted values are still bad\n",
    "flt.update_field('DOXY_ADJUSTED_QC', 4, where=flt.DOXY_ADJUSTED.isna())\n",
    "flt.set_fillvalue('DOXY_ADJUSTED', where=flt.DOXY_ADJUSTED_QC == 4)\n",
    "flt.set_fillvalue('DOXY_ADJUSTED_ERROR', where=flt.DOXY_ADJUSTED_QC == 4)"
   ]
  },
  {
   "cell_type": "code",
   "execution_count": null,
   "metadata": {},
   "outputs": [],
   "source": [
    "# export the files - version for if already in A mode and unchanged\n",
    "# comment = 'by Henry Bittig; ORCID 0000-0002-8621-3095; after Bittig et al. (2018) eq. 23 T-dependent slope on PPOX_DOXY with linear time trend in slope; Using in-air obs; No time response correction done; error gives 1 sigma'\n",
    "# comment += f\"; Visual QC by Christopher Gordon (DFO, ORCID {bgc.config['orcid']})\"\n",
    "# comment = comment.replace('No time response correction done;', '')\n",
    "# flt.export_files(data_mode='D', comment=comment, coeff='previous', equation='previous')"
   ]
  },
  {
   "cell_type": "code",
   "execution_count": null,
   "metadata": {},
   "outputs": [],
   "source": [
    "# export the files - for R to D mode\n",
    "# flt.export_files(data_mode='D')"
   ]
  },
  {
   "cell_type": "code",
   "execution_count": null,
   "metadata": {},
   "outputs": [],
   "source": [
    "from pathlib import Path\n",
    "import pandas as pd\n",
    "from netCDF4 import Dataset\n",
    "import copy\n",
    "\n",
    "wmo = 4900874\n",
    "loc = Path(f'/Users/GordonC/Documents/data/Argo/dac/meds/D/{wmo}/profiles/')\n",
    "files = pd.read_csv(Path(f'../../../checker/summary/{wmo}/files.txt'))\n",
    "varname = 'DOXY'\n",
    "for fn in files.files:\n",
    "    print(fn)\n",
    "    nc = Dataset(loc / fn, 'r+')\n",
    "    print(nc['DOXY'][:])\n",
    "    flags = copy.deepcopy(nc[varname+'_QC'][:])\n",
    "    flags[nc[varname][:].mask] = b'9'\n",
    "    nc[varname+'_QC'][:] = flags\n",
    "    if varname == 'DOXY':\n",
    "        flags = copy.deepcopy(nc[varname+'_ADJUSTED_QC'][:])\n",
    "        flags[nc[varname][:].mask] = b'9'\n",
    "        nc[varname+'_ADJUSTED_QC'][:] = flags\n",
    "    profile = copy.deepcopy(nc['PROFILE_DOXY_QC'][:])\n",
    "    profile[0] = b'A'\n",
    "    nc['PROFILE_DOXY_QC'][:] = profile\n",
    "    nc.close()"
   ]
  },
  {
   "cell_type": "code",
   "execution_count": null,
   "metadata": {},
   "outputs": [],
   "source": []
  }
 ],
 "metadata": {
  "interpreter": {
   "hash": "8571e7f3e92f6e490cddd84ef78d4e4e0b96a1f565959148b10a39523fba88f5"
  },
  "kernelspec": {
   "display_name": "Python 3.9.7 ('py39')",
   "language": "python",
   "name": "python3"
  },
  "language_info": {
   "codemirror_mode": {
    "name": "ipython",
    "version": 3
   },
   "file_extension": ".py",
   "mimetype": "text/x-python",
   "name": "python",
   "nbconvert_exporter": "python",
   "pygments_lexer": "ipython3",
   "version": "3.9.7"
  },
  "orig_nbformat": 4
 },
 "nbformat": 4,
 "nbformat_minor": 2
}
