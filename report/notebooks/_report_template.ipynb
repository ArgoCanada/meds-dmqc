{
 "cells": [
  {
   "cell_type": "markdown",
   "metadata": {},
   "source": [
    "# DMQC Report: WMO [WMO Number]\n",
    "\n",
    "## Current status and metadata: \n",
    "\n",
    "- What kind of float?\n",
    "- Active/inactive? When?\n",
    "- Where is it?\n",
    "- How many cycles has it completed?\n",
    "- Is there in-air data?\n",
    "- What mode is the data in right now?\n",
    "- What is the gain with the data as is?"
   ]
  },
  {
   "cell_type": "code",
   "execution_count": null,
   "metadata": {},
   "outputs": [],
   "source": [
    "import warnings\n",
    "warnings.filterwarnings('ignore')\n",
    "\n",
    "from matplotlib.dates import datestr2num\n",
    "import matplotlib.pyplot as plt\n",
    "\n",
    "from pathlib import Path\n",
    "import numpy as np\n",
    "import pandas as pd\n",
    "import bgcArgoDMQC as bgc\n",
    "\n",
    "wmo = 0 # insert WMO number here\n",
    "fig_path = Path('../../figures/') / f'{wmo}' # where to save figures\n",
    "bgc.io.get_argo(wmo, local_path=bgc.ARGO_PATH) # download the data to ensure you have up to date files\n",
    "flt = bgc.sprof(wmo)\n",
    "flt.clean()\n",
    "gains = flt.calc_gains(ref='WOA') # calculate gain, can change to ref='NCEP' if in-air data is available\n",
    "print(np.nanmean(gains))"
   ]
  },
  {
   "cell_type": "markdown",
   "metadata": {},
   "source": [
    "## DOXY Audit Status\n",
    "\n",
    "- If the float has any profiles present in the DOXY audit, which are they are why?\n",
    "- Likely will usually be left empty/deleted"
   ]
  },
  {
   "cell_type": "code",
   "execution_count": null,
   "metadata": {},
   "outputs": [],
   "source": [
    "audit_file = list(Path('../../audit/').glob('DOXY_WOA*'))[-1]\n",
    "df = pd.read_csv(audit_file, sep='\\t', header=25)\n",
    "df = df.loc[df.WMO == wmo]\n",
    "df['date'] = [datestr2num(t) for t in df['profile date']]\n",
    "print(df)"
   ]
  },
  {
   "cell_type": "markdown",
   "metadata": {},
   "source": [
    "## Visual QC\n",
    "\n",
    "- Visualize the float and reference surface saturations, as well as the profiles. \n",
    "- Observe if DOXY data is set to '3' as it should be or if it is '1' or '2'. \n",
    "- Try to note cycles or other identifying features of potentially problematic profiles."
   ]
  },
  {
   "cell_type": "code",
   "execution_count": null,
   "metadata": {},
   "outputs": [],
   "source": [
    "g = flt.plot('gain', ref='WOA')\n",
    "g.axes[0].set_title(f'WMO: {wmo}', loc='left', fontweight='bold')\n",
    "g.axes[0].plot(df['date'], df['flt O2 %sat'], '*')\n",
    "g.axes[1].plot(df['date'], df['WOA G_raw'], '*', zorder=3)\n",
    "g.axes[0].plot(flt.df.SDN.loc[flt.df.PRES < 50], flt.df.O2Sat.loc[flt.df.PRES < 50], 'o', zorder=0, alpha=0.1)\n",
    "g.fig.savefig(fig_path / 'gain_initial.png', bbox_inches='tight', dpi=250)"
   ]
  },
  {
   "cell_type": "markdown",
   "metadata": {},
   "source": [
    "Figure 1: Top panel: Float oxygen percent saturation (blue line) compared to WOA percent saturation (orange line), with DOXY audit flagged cycle percent saturation (green stars, if applicable) and raw float percent saturation (orange circles). Bottom panel: calculated gains (blue dots) and flagged gains from DOXY audit (orange stars).\n",
    "\n",
    "Notes: [notes on what this figure tells you here] "
   ]
  },
  {
   "cell_type": "code",
   "execution_count": null,
   "metadata": {},
   "outputs": [],
   "source": [
    "flt.reset()\n",
    "g = flt.plot('qcprofiles', varlist=['DOXY', 'TEMP', 'PSAL'])\n",
    "g.fig.savefig(fig_path / 'qcprofiles.png', bbox_inches='tight', dpi=250)\n",
    "g = flt.plot('qcprofiles', varlist=['DOXY', 'TEMP', 'PSAL'])\n",
    "g.axes[0].set_ylim((200,0))\n",
    "g.fig.savefig(fig_path / 'qcprofiles_shallow.png', bbox_inches='tight', dpi=250)"
   ]
  },
  {
   "cell_type": "markdown",
   "metadata": {},
   "source": [
    "Figures 2,3: Profiles coloured by QC flag (1-2, green, 3, yellow, 4, red) on difference depth scales.\n",
    "\n",
    "Notes: [notes on what this figure tells you here] "
   ]
  },
  {
   "cell_type": "markdown",
   "metadata": {},
   "source": [
    "## Flag bad data, recalculate gain\n",
    "\n",
    "- Using the plots above (and likely some more specific plots, made on a case-by-case basis), flag bad DOXY data as 4. \n",
    "- After flagging bad data, re-clean the data and re-calculate the gains."
   ]
  },
  {
   "cell_type": "code",
   "execution_count": null,
   "metadata": {},
   "outputs": [],
   "source": [
    "bad_oxygen = [] # index defining where the oxygen should be flagged as bad\n",
    "flt.update_field('DOXY_QC', 4, where=bad_oxygen)\n",
    "flt.update_field('DOXY_ADJUSTED_QC', 4, where=bad_oxygen)\n",
    "flt.clean()\n",
    "new_gains = flt.calc_gains(ref='WOA')\n",
    "print(np.nanmean(new_gains))\n",
    "\n",
    "g = flt.plot('gain', ref='WOA')\n",
    "g.axes[0].set_title(f'WMO: {wmo}', loc='left', fontweight='bold')\n",
    "g.axes[0].plot(df['date'], df['flt O2 %sat'], '*')\n",
    "g.axes[1].plot(df['date'], df['WOA G_raw'], '*', zorder=3)\n",
    "g.axes[0].plot(flt.df.SDN.loc[flt.df.PRES < 50], flt.df.O2Sat.loc[flt.df.PRES < 50], 'o', zorder=0, alpha=0.1)\n",
    "g.fig.savefig(fig_path / 'gain_final.png', bbox_inches='tight', dpi=250)"
   ]
  },
  {
   "cell_type": "markdown",
   "metadata": {},
   "source": [
    "Figure x: Repeated gain plot with bad data removed.\n",
    "\n",
    "## Update Fields and Export\n",
    "\n",
    "- DOXY should be 3 by default, but many old floats have 1 or 0. Though it will be redundant in some cases, make sure DOXY_QC is not good.\n",
    "- Apply the gain to calculate DOXY_ADJUSTED. \n",
    "- Fill in DOXY_ADJUSTED_ERROR with an appropriate fixed value.\n",
    "- Fill in DOXY_ADJUSTED_QC. \n",
    "- Make sure DOXY_ADJUSTED and DOXY_ADJUSTED_ERROR are `FillValue` wherever DOXY_ADJUSTED_QC is bad.\n",
    "- Export the D-mode files. During export, HISTORY parameters will be filled as well as SCIENTIFIC_CALIB parameters using some default structures and user info set by calling `bgc.configure.configure()`."
   ]
  },
  {
   "cell_type": "code",
   "execution_count": null,
   "metadata": {},
   "outputs": [],
   "source": [
    "# make sure DOXY_QC is 3 instead of 0,1,2\n",
    "flt.update_field('DOXY_QC', 3, where=flt.DOXY_QC.isin([0, 1, 2]))\n",
    "# apply gain and calculate error\n",
    "flt.update_field('DOXY_ADJUSTED', flt.gain*flt.DOXY)\n",
    "flt.update_field('DOXY_ADJUSTED_ERROR', bgc.calc_fixed_doxy_adjusted_error(flt.PSAL, flt.TEMP, flt.PRES))\n",
    "# fill in DOXY_ADJUSTED_QC appropriately\n",
    "flt.update_field('DOXY_ADJUSTED_QC', flt.DOXY_QC)\n",
    "flt.update_field('DOXY_ADJUSTED_QC', 1, where=flt.DOXY_ADJUSTED_QC.isin([0, 3]))\n",
    "flt.update_field('DOXY_ADJUSTED_QC', 4, where=flt.TEMP_ADJUSTED_QC == 4)\n",
    "flt.update_field('DOXY_ADJUSTED_QC', 3, where=flt.PSAL_ADJUSTED_QC == 4)\n",
    "# make sure the data is FillValues where adjusted values are still bad\n",
    "flt.set_fillvalue('DOXY_ADJUSTED', where=flt.DOXY_ADJUSTED_QC == 4)\n",
    "flt.set_fillvalue('DOXY_ADJUSTED_ERROR', where=flt.DOXY_ADJUSTED_QC == 4)"
   ]
  },
  {
   "cell_type": "code",
   "execution_count": null,
   "metadata": {},
   "outputs": [],
   "source": [
    "# export the files\n",
    "flt.export_files(data_mode='D')"
   ]
  }
 ],
 "metadata": {
  "language_info": {
   "name": "python"
  },
  "orig_nbformat": 4
 },
 "nbformat": 4,
 "nbformat_minor": 2
}
