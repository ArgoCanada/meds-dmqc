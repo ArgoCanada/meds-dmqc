{
 "cells": [
  {
   "cell_type": "markdown",
   "metadata": {},
   "source": [
    "# DMQC Report: WMO [WMO Number]\n",
    "\n",
    "## Current status and metadata: \n",
    "\n",
    "- What kind of float?\n",
    "- Active/inactive? When?\n",
    "- Where is it?\n",
    "- How many cycles has it completed?\n",
    "- Is there in-air data?\n",
    "- What mode is the data in right now?\n",
    "- What is the gain with the data as is?"
   ]
  },
  {
   "cell_type": "code",
   "execution_count": null,
   "metadata": {},
   "outputs": [],
   "source": [
    "import warnings\n",
    "warnings.filterwarnings('ignore')\n",
    "\n",
    "from matplotlib.dates import datestr2num\n",
    "import matplotlib.pyplot as plt\n",
    "\n",
    "from pathlib import Path\n",
    "import numpy as np\n",
    "import pandas as pd\n",
    "import bgcArgoDMQC as bgc\n",
    "\n",
    "wmo = 0 # insert WMO number here\n",
    "bgc.io.get_argo(wmo, local_path=bgc.ARGO_PATH) # download the data to ensure you have up to date files\n",
    "flt = bgc.sprof(wmo)\n",
    "flt.clean()\n",
    "gains = flt.calc_gains(ref='WOA') # calculate gain, can change to ref='NCEP' if in-air data is available\n",
    "print(np.nanmean(gains))"
   ]
  }
 ],
 "metadata": {
  "language_info": {
   "name": "python"
  },
  "orig_nbformat": 4
 },
 "nbformat": 4,
 "nbformat_minor": 2
}
